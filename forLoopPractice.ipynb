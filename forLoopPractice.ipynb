{
 "cells": [
  {
   "cell_type": "code",
   "execution_count": null,
   "id": "436f6de7",
   "metadata": {},
   "outputs": [
    {
     "name": "stdout",
     "output_type": "stream",
     "text": [
      "0\n",
      "1\n",
      "2\n",
      "3\n",
      "4\n"
     ]
    }
   ],
   "source": [
    "for i in range(5):\n",
    "    print(i)\n",
    "    \n",
    "print(\"Loop completed\")\n",
    "# This is a simple python script that prints from 0 to 4\n",
    "    "
   ]
  },
  {
   "cell_type": "code",
   "execution_count": null,
   "id": "e96f3e3e",
   "metadata": {},
   "outputs": [
    {
     "name": "stdout",
     "output_type": "stream",
     "text": [
      "0\n",
      "2\n",
      "4\n"
     ]
    }
   ],
   "source": [
    "# for i in range(0, 5, 2): Here, the range starts at 0, ends before 5, and increments by 2\n",
    "# Example 1\n",
    "for i in range(0, 5, 2):\n",
    "    print(i)"
   ]
  },
  {
   "cell_type": "code",
   "execution_count": 3,
   "id": "841d8e68",
   "metadata": {},
   "outputs": [
    {
     "name": "stdout",
     "output_type": "stream",
     "text": [
      "1\n",
      "2\n",
      "3\n",
      "4\n"
     ]
    }
   ],
   "source": [
    "# Example 2\n",
    "\n",
    "for i in range(1, 5, 1):\n",
    "    print(i)\n",
    "    "
   ]
  },
  {
   "cell_type": "code",
   "execution_count": null,
   "id": "f4e7d52b",
   "metadata": {},
   "outputs": [
    {
     "name": "stdout",
     "output_type": "stream",
     "text": [
      "0\n",
      "1\n",
      "2\n",
      "3\n",
      "4\n"
     ]
    }
   ],
   "source": [
    "# Simple function to print numbers from 0 to a given n number\n",
    "# This function takes an integer input and prints numbers from 0 to n-1\n",
    "\n",
    "def print_numbers(num):\n",
    "    for i in range(num):\n",
    "        print(i)\n",
    "\n",
    "print_numbers(5)\n"
   ]
  },
  {
   "cell_type": "code",
   "execution_count": null,
   "id": "a71736d9",
   "metadata": {},
   "outputs": [],
   "source": [
    "# Simple function to print numbers from 'start' to 'end' while incrementing by 'step'\n",
    "\n",
    "def print_range(start, end, step):\n",
    "    for i in range(start, end, step):\n",
    "        print(i)\n",
    "        \n",
    "print_range(0, 10, 2)  # This will print numbers from 0 to 8, incrementing by 2"
   ]
  }
 ],
 "metadata": {
  "kernelspec": {
   "display_name": "Python 3",
   "language": "python",
   "name": "python3"
  },
  "language_info": {
   "codemirror_mode": {
    "name": "ipython",
    "version": 3
   },
   "file_extension": ".py",
   "mimetype": "text/x-python",
   "name": "python",
   "nbconvert_exporter": "python",
   "pygments_lexer": "ipython3",
   "version": "3.13.2"
  }
 },
 "nbformat": 4,
 "nbformat_minor": 5
}
