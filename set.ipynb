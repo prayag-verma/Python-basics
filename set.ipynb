{
 "cells": [
  {
   "cell_type": "code",
   "execution_count": null,
   "id": "eca12ffa105633ad",
   "metadata": {},
   "outputs": [
    {
     "data": {
      "text/plain": [
       "'\\nNote:\\n\\n'"
      ]
     },
     "execution_count": 1,
     "metadata": {},
     "output_type": "execute_result"
    }
   ],
   "source": [
    "# Set Excersice\n",
    "'''\n",
    "Note:\n",
    "    - set() is a collection of unordered, unique elements.\n",
    "    - It is mutable, meaning you can add or remove elements.\n",
    "    - Sets are useful for membership testing, removing duplicates from a sequence, and performing mathematical operations\n",
    "    - Sets are defined using curly braces {} or the set() constructor.\n",
    "    - Elements in a set must be immutable (e.g., numbers, strings, tuples), but the set itself is mutable.\n",
    "    - Sets do not support indexing, slicing, or other sequence-like behavior.\n",
    "    - Sets can be created from other iterables, such as lists or tuples.\n",
    "    - Sets support various operations like union, intersection, difference, and symmetric difference.\n",
    "    - Sets can be iterated over, but the order of elements is not guaranteed.\n",
    "'''"
   ]
  },
  {
   "cell_type": "code",
   "execution_count": null,
   "id": "5712873f",
   "metadata": {},
   "outputs": [
    {
     "name": "stdout",
     "output_type": "stream",
     "text": [
      "{1, 2, 3, 4, 5}\n"
     ]
    }
   ],
   "source": [
    "# Example 1 --> Creating a set\n",
    "\n",
    "my_set = {1, 2, 3, 4, 5, 5} # Duplicate elements are ignored and only unique elements are printed\n",
    "\n",
    "print(my_set)  # Output: {1, 2, 3, 4, 5}"
   ]
  },
  {
   "cell_type": "code",
   "execution_count": 5,
   "id": "7082b63a",
   "metadata": {},
   "outputs": [
    {
     "name": "stdout",
     "output_type": "stream",
     "text": [
      "{1, 2, 3, 4, 5, 6}\n"
     ]
    }
   ],
   "source": [
    "# Example 2 --> Adding elements to a set\n",
    "\n",
    "my_set.add(6)\n",
    "\n",
    "print(my_set)  # Output: {1, 2, 3, 4, 5, 6}"
   ]
  }
 ],
 "metadata": {
  "kernelspec": {
   "display_name": "Python 3",
   "language": "python",
   "name": "python3"
  },
  "language_info": {
   "codemirror_mode": {
    "name": "ipython",
    "version": 3
   },
   "file_extension": ".py",
   "mimetype": "text/x-python",
   "name": "python",
   "nbconvert_exporter": "python",
   "pygments_lexer": "ipython3",
   "version": "3.13.2"
  }
 },
 "nbformat": 4,
 "nbformat_minor": 5
}
