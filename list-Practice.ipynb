{
 "cells": [
  {
   "cell_type": "code",
   "execution_count": null,
   "id": "9f86e19c",
   "metadata": {},
   "outputs": [
    {
     "name": "stdout",
     "output_type": "stream",
     "text": [
      "[24, 30, 18, 22, 28]\n"
     ]
    }
   ],
   "source": [
    "# List\n",
    " \n",
    "'''\n",
    "Note: \n",
    "    - List is a collection of items in a particular order.\n",
    "    - Lists are mutable, meaning they can be changed.\n",
    "    - Lists are defined by having values between square brackets [].\n",
    "    - Lists can contain any data type, including other lists.\n",
    "    - Lists can be indexed, meaning you can access individual elements using their position.\n",
    "    - Lists can be sliced, meaning you can access a range of elements.\n",
    "    - Lists can be nested, meaning you can have lists within lists.\n",
    "    - Lists can be iterated over using loops.\n",
    "    - Lists can be sorted, reversed, and manipulated in various ways.\n",
    "    - List has many built-in methods for adding, removing, and modifying elements, they are as following:\n",
    "        1. append()     --> Adds an element to the end of the list.\n",
    "        2. extend()     --> Adds elements from another list to the end of the list.\n",
    "        3. insert()     --> Adds an element at a specific index in the list.\n",
    "        4. remove()     --> Removes the first occurrence of a specified element from the list.\n",
    "        5. pop()        --> Removes and returns the element at a specified index (default is the last element).\n",
    "        6. clear()      --> Removes all elements from the list.\n",
    "        7. index()      --> Returns the index of the first occurrence of a specified element in the list.\n",
    "        8. count()      --> Returns the number of occurrences of a specified element in the list.\n",
    "        9. sort()       --> Sorts the elements of the list in ascending order.\n",
    "        10. reverse()   --> Reverses the order of the elements in the list.\n",
    "        11. copy()      --> Returns a shallow copy of the list.\n",
    "        12. join()      --> Joins the elements of a list into a string, using a specified separator.\n",
    "        13. split()     --> Splits a string into a list of substrings based on a specified separator.\n",
    "'''\n",
    "# Example 1 --> A simple 'list' practice problems here:\n",
    "peopleAge = [24, 30, 18, 22, 28]\n",
    "\n",
    "print(peopleAge)\n"
   ]
  },
  {
   "cell_type": "code",
   "execution_count": 3,
   "id": "847665b7",
   "metadata": {},
   "outputs": [
    {
     "name": "stdout",
     "output_type": "stream",
     "text": [
      "The length of the list is 5 elements.\n"
     ]
    }
   ],
   "source": [
    "# Example 2 --> Printing length of a list\n",
    "peopleAge = [24, 30, 18, 22, 28]\n",
    "print(f\"The length of the list is {len(peopleAge)} elements.\")\n"
   ]
  },
  {
   "cell_type": "code",
   "execution_count": 4,
   "id": "369fd5ed",
   "metadata": {},
   "outputs": [
    {
     "name": "stdout",
     "output_type": "stream",
     "text": [
      "18\n"
     ]
    }
   ],
   "source": [
    "# Example 3 --> Printing an specific element from the list\n",
    "\n",
    "peopleAge = [24, 30, 18, 22, 28]\n",
    "print(peopleAge[2])  # This will print the third element (index 2) of the list, which is 18.\n"
   ]
  },
  {
   "cell_type": "code",
   "execution_count": null,
   "id": "c6b5055d",
   "metadata": {},
   "outputs": [
    {
     "name": "stdout",
     "output_type": "stream",
     "text": [
      "24\n",
      "30\n",
      "18\n",
      "22\n",
      "28\n"
     ]
    }
   ],
   "source": [
    "# Example 4 --> simple example to print all element from a list using for loop\n",
    "\n",
    "age = [24, 30, 18, 22, 28]\n",
    "for i in age:\n",
    "    print(i)\n"
   ]
  },
  {
   "cell_type": "code",
   "execution_count": 6,
   "id": "614b7f1c",
   "metadata": {},
   "outputs": [
    {
     "name": "stdout",
     "output_type": "stream",
     "text": [
      "Random element from the list: [0.21407410165285568, 0.10056043475349852, 0.5376139856887248, 0.7033852640629787, 0.34774150812471705]\n"
     ]
    }
   ],
   "source": [
    "# Example 5 --> printing any random element from the list\n",
    "\n",
    "from random import random\n",
    "\n",
    "peopleAge = [random(), random(), random(), random(), random()]\n",
    "\n",
    "print(f\"Random element from the list: {peopleAge}\")"
   ]
  },
  {
   "cell_type": "code",
   "execution_count": 13,
   "id": "85be350a",
   "metadata": {},
   "outputs": [
    {
     "name": "stdout",
     "output_type": "stream",
     "text": [
      "5\n",
      "0.8570510146152227\n",
      "0.797186912423804\n",
      "0.762494803091198\n",
      "0.04710472379987718\n",
      "0.9207998340693286\n",
      "Element at index 0: 0.8570510146152227\n",
      "Element at index 1: 0.797186912423804\n",
      "Element at index 2: 0.762494803091198\n",
      "Element at index 3: 0.04710472379987718\n",
      "Element at index 4: 0.9207998340693286\n"
     ]
    }
   ],
   "source": [
    "# Example 6 --> Printing elements from a list using a for loop for random numbers\n",
    "\n",
    "from random import random\n",
    "random_numbers = [random() for _ in range(5)]\n",
    "\n",
    "print(len(random_numbers))  # Print the length of the list\n",
    "\n",
    "for i in random_numbers:\n",
    "    print(i)  # Print each element in the list\n",
    "\n",
    "\n",
    "for i in range(len(random_numbers)):\n",
    "    print(f\"Element at index {i}: {random_numbers[i]}\")  # Print each element with its index"
   ]
  },
  {
   "cell_type": "code",
   "execution_count": null,
   "id": "5036ef6b",
   "metadata": {},
   "outputs": [
    {
     "name": "stdout",
     "output_type": "stream",
     "text": [
      "List before appending: [2, 9, 5, 4, 6]\n",
      "List after appending: [2, 9, 5, 4, 6, 10]\n"
     ]
    }
   ],
   "source": [
    "# Example 7 --> append() method to add an element to a list\n",
    "# Note: The append() always method adds an element to the end of the list by default.\n",
    "\n",
    "my_list = [2, 9, 5, 4, 6]\n",
    "\n",
    "print(f\"List before appending: {my_list}\")  # Print the original list\n",
    "my_list.append(10)  # Append 10 to the end of the list\n",
    "print(f\"List after appending: {my_list}\")  # Print the updated list"
   ]
  },
  {
   "cell_type": "code",
   "execution_count": 17,
   "id": "e9e00f42",
   "metadata": {},
   "outputs": [
    {
     "name": "stdout",
     "output_type": "stream",
     "text": [
      "List before appending: ['apple', 'banana', 'cherry']\n",
      "List after appending: ['apple', 'banana', 'cherry', 'orange']\n"
     ]
    }
   ],
   "source": [
    "# Example 8 --> Using the append() method to add a string to a list\n",
    "\n",
    "my_list = [\"apple\", \"banana\", \"cherry\"]\n",
    "\n",
    "def append_string_to_list(lst, string):\n",
    "    my_list.append(string)\n",
    "    return lst\n",
    "\n",
    "print(f\"List before appending: {my_list}\")  # Print the updated list\n",
    "my_list = append_string_to_list(my_list, \"orange\")\n",
    "print(f\"List after appending: {my_list}\")  # Print the updated list"
   ]
  },
  {
   "cell_type": "code",
   "execution_count": 21,
   "id": "ec68fd60",
   "metadata": {},
   "outputs": [
    {
     "name": "stdout",
     "output_type": "stream",
     "text": [
      "List before appending: [1, 2, 3]\n",
      "List after appending: [1, 2, 3, [4, 5, 6]]\n",
      "Last element of the list: [4, 5, 6]\n"
     ]
    }
   ],
   "source": [
    "# Example 9 --> Using the append() method to add a another list to a list\n",
    "\n",
    "my_list = [1, 2, 3]\n",
    "\n",
    "print(f\"List before appending: {my_list}\")  # Print the original list\n",
    "\n",
    "my_list.append([4, 5, 6])  # Append another list to the end of the list\n",
    "print(f\"List after appending: {my_list}\")  # Print the updated list\n",
    "\n",
    "print(f\"Last element of the list:\",my_list[-1])  # Print the last element of the list, which is the appended list [4, 5, 6]"
   ]
  },
  {
   "cell_type": "code",
   "execution_count": 24,
   "id": "b5e0b293",
   "metadata": {},
   "outputs": [
    {
     "name": "stdout",
     "output_type": "stream",
     "text": [
      "List before inserting: [1, 2, 3]\n",
      "List after inserting: [1, 4, 2, 3]\n"
     ]
    }
   ],
   "source": [
    "# Example 10 --> insert() method to add an element at a specific index in a list\n",
    "# Note: The insert() method allows you to add an element at a specific index in the list.\n",
    "\n",
    "my_list = [1, 2, 3]\n",
    "\n",
    "print(f\"List before inserting: {my_list}\")  # Print the original list\n",
    "my_list.insert(1, 4)  # Insert 4 at index 1\n",
    "print(f\"List after inserting: {my_list}\")  # Print the updated list\n",
    "\n",
    "# Note: The insert() method does not replace the existing element at the specified index; it shifts the elements to the right.\n"
   ]
  },
  {
   "cell_type": "code",
   "execution_count": null,
   "id": "91a975a6",
   "metadata": {},
   "outputs": [
    {
     "name": "stdout",
     "output_type": "stream",
     "text": [
      "List before extending: [1, 2, 3]\n",
      "List after extending: [1, 2, 3, 4, 5, 6]\n"
     ]
    }
   ],
   "source": [
    "# Example 11 --> extend() method to add elements from another list to the end of a list\n",
    "\n",
    "'''\n",
    "Note: \n",
    "    1. The extend() method always adds the elements from the other list to the end of the list.\n",
    "    2. The difference between append(), extend(), and insert() methods is that:\n",
    "            --> append() adds a single element to the end of the list,\n",
    "            --> extend() adds multiple elements from another iterable (like a list) to the end of the list, and \n",
    "            --> insert() adds a single element at a specific index in the list.\n",
    "'''\n",
    "\n",
    "my_list = [1, 2, 3]\n",
    "print(f\"List before extending: {my_list}\")  # Print the original list\n",
    "my_list.extend([4, 5, 6])  # Extend the list with another list\n",
    "print(f\"List after extending: {my_list}\")  # Print the updated list"
   ]
  },
  {
   "cell_type": "code",
   "execution_count": 27,
   "id": "f5deed4b",
   "metadata": {},
   "outputs": [
    {
     "name": "stdout",
     "output_type": "stream",
     "text": [
      "List before removing: [1, 2, 3, 4, 5, 3]\n",
      "List after removing: [1, 2, 4, 5, 3]\n"
     ]
    }
   ],
   "source": [
    "# Example 12 --> Using the remove() method to remove an element from a list\n",
    "my_list = [1, 2, 3, 4, 5, 3]\n",
    "print(f\"List before removing: {my_list}\")  # Print the original list\n",
    "\n",
    "my_list.remove(3)  # Remove the first occurrence of 3 from the list\n",
    "print(f\"List after removing: {my_list}\")  # Print the updated list"
   ]
  },
  {
   "cell_type": "code",
   "execution_count": 30,
   "id": "0bcd91fb",
   "metadata": {},
   "outputs": [
    {
     "name": "stdout",
     "output_type": "stream",
     "text": [
      "List before popping: [1, 2, 3, 4, 5]\n",
      "Popped element: 5\n"
     ]
    }
   ],
   "source": [
    "# Example 13 --> Using the pop() method to remove and return an element from a list\n",
    "my_list = [1, 2, 3, 4, 5]\n",
    "print(f\"List before popping: {my_list}\")  # Print the original list\n",
    "\n",
    "popped_element = my_list.pop()  # Pop the last element from the list\n",
    "print(f\"Popped element: {popped_element}\")  # Print the popped element"
   ]
  },
  {
   "cell_type": "code",
   "execution_count": 31,
   "id": "0912f2e9",
   "metadata": {},
   "outputs": [
    {
     "name": "stdout",
     "output_type": "stream",
     "text": [
      "List before clearing: [1, 2, 3, 4, 5]\n",
      "List after clearing: []\n"
     ]
    }
   ],
   "source": [
    "# Example 14 --> Using the clear() method to remove all elements from a list\n",
    "my_list = [1, 2, 3, 4, 5]  \n",
    "print(f\"List before clearing: {my_list}\")  # Print the original list\n",
    "\n",
    "my_list.clear()  # Clear the list\n",
    "print(f\"List after clearing: {my_list}\")  # Print the updated list"
   ]
  },
  {
   "cell_type": "code",
   "execution_count": 33,
   "id": "4906baac",
   "metadata": {},
   "outputs": [
    {
     "name": "stdout",
     "output_type": "stream",
     "text": [
      "List: [1, 2, 3, 4, 5]\n",
      "Index of 3: 2\n"
     ]
    }
   ],
   "source": [
    "# Example 15 --> Using the index() method to find the index of an element in a list\n",
    "\n",
    "my_list = [1, 2, 3, 4, 5]\n",
    "print(f\"List: {my_list}\")  # Print the original list\n",
    "\n",
    "find_element = 3\n",
    "\n",
    "print(f\"Index of {find_element}: {my_list.index(find_element)}\")  # Print the index of the element\n"
   ]
  },
  {
   "cell_type": "code",
   "execution_count": 36,
   "id": "5606f381",
   "metadata": {},
   "outputs": [
    {
     "name": "stdout",
     "output_type": "stream",
     "text": [
      "List: [3, 1, 3, 2, 3, 4, 3, 5, 3]\n",
      "Count of 3: 5\n"
     ]
    }
   ],
   "source": [
    "# Example 16 --> Using the count() method to count occurrences of an element in a list\n",
    "my_list = [3, 1, 3, 2, 3, 4, 3, 5, 3]\n",
    "print(f\"List: {my_list}\")  # Print the original list\n",
    "\n",
    "find_element = 3\n",
    "print(f\"Count of {find_element}: {my_list.count(find_element)}\")  # Print the count of the element\n"
   ]
  },
  {
   "cell_type": "code",
   "execution_count": 37,
   "id": "1906677e",
   "metadata": {},
   "outputs": [
    {
     "name": "stdout",
     "output_type": "stream",
     "text": [
      "List before sorting: [5, 2, 9, 1, 5, 6]\n",
      "List after sorting: [1, 2, 5, 5, 6, 9]\n"
     ]
    }
   ],
   "source": [
    "# Example 17 --> Using the sort() method to sort a list in ascending order  \n",
    "my_list = [5, 2, 9, 1, 5, 6]\n",
    "print(f\"List before sorting: {my_list}\")  # Print the original list\n",
    "\n",
    "my_list.sort()  # Sort the list in ascending order\n",
    "print(f\"List after sorting: {my_list}\")  # Print the sorted list\n"
   ]
  },
  {
   "cell_type": "code",
   "execution_count": 42,
   "id": "e1d990d4",
   "metadata": {},
   "outputs": [
    {
     "name": "stdout",
     "output_type": "stream",
     "text": [
      "List after sorting in ascending order: [1, 2, 5, 5, 6, 9]\n",
      "Copied list: [1, 2, 5, 5, 6, 9]\n",
      "9 6 5 5 2 1 "
     ]
    }
   ],
   "source": [
    "# Print the sorted list in descending order without using the reverse parameter\n",
    "# Note: The reverse=True parameter is used to sort the list in descending order, but here we are not using it.\n",
    "my_list = [5, 2, 9, 1, 5, 6]\n",
    "my_list.sort()  # Sort the list in ascending order \n",
    "print(f\"List after sorting in ascending order: {my_list}\")  # Print the sorted list\n",
    "\n",
    "# store the sorted list in another variable\n",
    "copied_list = my_list.copy()  # Create a copy of the sorted list\n",
    "\n",
    "print(f\"Copied list: {copied_list}\")  # Print the sorted list\n",
    "\n",
    "for i in range(len(copied_list)-1, -1, -1):  # Iterate through the sorted list in reverse order\n",
    "    print(copied_list[i], end=\" \")  # Print each element in reverse order without using"
   ]
  },
  {
   "cell_type": "code",
   "execution_count": 43,
   "id": "d941c361",
   "metadata": {},
   "outputs": [
    {
     "name": "stdout",
     "output_type": "stream",
     "text": [
      "List before reversing: [5, 2, 9, 1, 5, 6]\n",
      "List after reversing: [6, 5, 1, 9, 2, 5]\n"
     ]
    }
   ],
   "source": [
    "#  Example 18 --> Using the reverse() method to reverse the order of elements in a list\n",
    "my_list = [5, 2, 9, 1, 5, 6]\n",
    "print(f\"List before reversing: {my_list}\")  # Print the original list\n",
    "\n",
    "my_list.reverse()  # Reverse the order of elements in the list\n",
    "print(f\"List after reversing: {my_list}\")  # Print the reversed list"
   ]
  },
  {
   "cell_type": "code",
   "execution_count": null,
   "id": "443b19fe",
   "metadata": {},
   "outputs": [
    {
     "name": "stdout",
     "output_type": "stream",
     "text": [
      "List: ['apple', 'banana', 'cherry']\n",
      "Joined string: apple, banana, cherry\n"
     ]
    }
   ],
   "source": [
    "# Example 19 --> Using the join() method to join elements of a list into a string\n",
    "\n",
    "# Note: The join() method is used to join the elements of a list into a string, using a specified separator.\n",
    "\n",
    "my_list = [\"apple\", \"banana\", \"cherry\"]\n",
    "print(f\"List: {my_list}\")  # Print the original list\n",
    "\n",
    "separator = \", \"  # Define a separator for joining the elements\n",
    "joined_string = separator.join(my_list)  # Join the elements of the list into a string\n",
    "print(f\"Joined string: {joined_string}\")  # Print the joined string\n"
   ]
  },
  {
   "cell_type": "code",
   "execution_count": 53,
   "id": "5681df0a",
   "metadata": {},
   "outputs": [
    {
     "name": "stdout",
     "output_type": "stream",
     "text": [
      "String before splitting: apple, banana, cherry\n",
      "List after splitting: ['apple', 'banana', 'cherry']\n"
     ]
    }
   ],
   "source": [
    "# Example 20 --> Using the split() method to split a string into a list of substrings\n",
    "# Note: The split() method is used to split a string into a list of substrings based on a specified separator.\n",
    "\n",
    "my_string = \"apple, banana, cherry\"\n",
    "print(f\"String before splitting: {my_string}\")  # Print the original string\n",
    "\n",
    "separator = \", \"  # Define a separator for splitting the string\n",
    "my_list = my_string.split(separator)  # Split the string into a list of substrings\n",
    "print(f\"List after splitting: {my_list}\")  # Print the list of substrings"
   ]
  }
 ],
 "metadata": {
  "kernelspec": {
   "display_name": "Python 3",
   "language": "python",
   "name": "python3"
  },
  "language_info": {
   "codemirror_mode": {
    "name": "ipython",
    "version": 3
   },
   "file_extension": ".py",
   "mimetype": "text/x-python",
   "name": "python",
   "nbconvert_exporter": "python",
   "pygments_lexer": "ipython3",
   "version": "3.13.2"
  }
 },
 "nbformat": 4,
 "nbformat_minor": 5
}
