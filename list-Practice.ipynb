{
 "cells": [
  {
   "cell_type": "code",
   "execution_count": null,
   "id": "9f86e19c",
   "metadata": {},
   "outputs": [
    {
     "name": "stdout",
     "output_type": "stream",
     "text": [
      "[24, 30, 18, 22, 28]\n"
     ]
    }
   ],
   "source": [
    "# Example 1 --> A simple 'list' practice problems here:\n",
    "\n",
    "peopleAge = [24, 30, 18, 22, 28]\n",
    "\n",
    "print(peopleAge)\n"
   ]
  },
  {
   "cell_type": "code",
   "execution_count": 3,
   "id": "847665b7",
   "metadata": {},
   "outputs": [
    {
     "name": "stdout",
     "output_type": "stream",
     "text": [
      "The length of the list is 5 elements.\n"
     ]
    }
   ],
   "source": [
    "# Example 2 --> Printing length of a list\n",
    "peopleAge = [24, 30, 18, 22, 28]\n",
    "print(f\"The length of the list is {len(peopleAge)} elements.\")\n"
   ]
  },
  {
   "cell_type": "code",
   "execution_count": 4,
   "id": "369fd5ed",
   "metadata": {},
   "outputs": [
    {
     "name": "stdout",
     "output_type": "stream",
     "text": [
      "18\n"
     ]
    }
   ],
   "source": [
    "# Example 3 --> Printing an specific element from the list\n",
    "\n",
    "peopleAge = [24, 30, 18, 22, 28]\n",
    "print(peopleAge[2])  # This will print the third element (index 2) of the list, which is 18.\n"
   ]
  },
  {
   "cell_type": "code",
   "execution_count": null,
   "id": "c6b5055d",
   "metadata": {},
   "outputs": [
    {
     "name": "stdout",
     "output_type": "stream",
     "text": [
      "24\n",
      "30\n",
      "18\n",
      "22\n",
      "28\n"
     ]
    }
   ],
   "source": [
    "# Example 4 --> simple example to print all element from a list using for loop\n",
    "\n",
    "age = [24, 30, 18, 22, 28]\n",
    "for i in age:\n",
    "    print(i)\n"
   ]
  },
  {
   "cell_type": "code",
   "execution_count": 6,
   "id": "614b7f1c",
   "metadata": {},
   "outputs": [
    {
     "name": "stdout",
     "output_type": "stream",
     "text": [
      "Random element from the list: [0.21407410165285568, 0.10056043475349852, 0.5376139856887248, 0.7033852640629787, 0.34774150812471705]\n"
     ]
    }
   ],
   "source": [
    "# Example 5 --> printing any random element from the list\n",
    "\n",
    "from random import random\n",
    "\n",
    "peopleAge = [random(), random(), random(), random(), random()]\n",
    "\n",
    "print(f\"Random element from the list: {peopleAge}\")"
   ]
  },
  {
   "cell_type": "code",
   "execution_count": null,
   "id": "85be350a",
   "metadata": {},
   "outputs": [],
   "source": []
  }
 ],
 "metadata": {
  "kernelspec": {
   "display_name": "Python 3",
   "language": "python",
   "name": "python3"
  },
  "language_info": {
   "codemirror_mode": {
    "name": "ipython",
    "version": 3
   },
   "file_extension": ".py",
   "mimetype": "text/x-python",
   "name": "python",
   "nbconvert_exporter": "python",
   "pygments_lexer": "ipython3",
   "version": "3.13.2"
  }
 },
 "nbformat": 4,
 "nbformat_minor": 5
}
