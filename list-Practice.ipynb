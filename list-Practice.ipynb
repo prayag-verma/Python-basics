{
 "cells": [
  {
   "cell_type": "code",
   "execution_count": null,
   "id": "9f86e19c",
   "metadata": {},
   "outputs": [
    {
     "name": "stdout",
     "output_type": "stream",
     "text": [
      "[24, 30, 18, 22, 28]\n"
     ]
    }
   ],
   "source": [
    "# List\n",
    " \n",
    "'''\n",
    "Note: \n",
    "    - List is a collection of items in a particular order.\n",
    "    - Lists are mutable, meaning they can be changed.\n",
    "    - Lists are defined by having values between square brackets [].\n",
    "    - Lists can contain any data type, including other lists.\n",
    "    - Lists can be indexed, meaning you can access individual elements using their position.\n",
    "    - Lists can be sliced, meaning you can access a range of elements.\n",
    "    - Lists can be nested, meaning you can have lists within lists.\n",
    "    - Lists can be iterated over using loops.\n",
    "    - Lists can be sorted, reversed, and manipulated in various ways.\n",
    "    - List has many built-in methods for adding, removing, and modifying elements, they are as following:\n",
    "        1. append()     --> Adds an element to the end of the list.\n",
    "        2. extend()     --> Adds elements from another list to the end of the list.\n",
    "        3. insert()     --> Adds an element at a specific index in the list.\n",
    "        4. remove()     --> Removes the first occurrence of a specified element from the list.\n",
    "        5. pop()        --> Removes and returns the element at a specified index (default is the last element).\n",
    "        6. clear()      --> Removes all elements from the list.\n",
    "        7. index()      --> Returns the index of the first occurrence of a specified element in the list.\n",
    "        8. count()      --> Returns the number of occurrences of a specified element in the list.\n",
    "        9. sort()       --> Sorts the elements of the list in ascending order.\n",
    "        10. reverse()   --> Reverses the order of the elements in the list.\n",
    "        11. copy()      --> Returns a shallow copy of the list.\n",
    "        12. join()      --> Joins the elements of a list into a string, using a specified separator.\n",
    "        13. split()     --> Splits a string into a list of substrings based on a specified separator.\n",
    "'''\n",
    "# Example 1 --> A simple 'list' practice problems here:\n",
    "peopleAge = [24, 30, 18, 22, 28]\n",
    "\n",
    "print(peopleAge)\n"
   ]
  },
  {
   "cell_type": "code",
   "execution_count": 3,
   "id": "847665b7",
   "metadata": {},
   "outputs": [
    {
     "name": "stdout",
     "output_type": "stream",
     "text": [
      "The length of the list is 5 elements.\n"
     ]
    }
   ],
   "source": [
    "# Example 2 --> Printing length of a list\n",
    "peopleAge = [24, 30, 18, 22, 28]\n",
    "print(f\"The length of the list is {len(peopleAge)} elements.\")\n"
   ]
  },
  {
   "cell_type": "code",
   "execution_count": 4,
   "id": "369fd5ed",
   "metadata": {},
   "outputs": [
    {
     "name": "stdout",
     "output_type": "stream",
     "text": [
      "18\n"
     ]
    }
   ],
   "source": [
    "# Example 3 --> Printing an specific element from the list\n",
    "\n",
    "peopleAge = [24, 30, 18, 22, 28]\n",
    "print(peopleAge[2])  # This will print the third element (index 2) of the list, which is 18.\n"
   ]
  },
  {
   "cell_type": "code",
   "execution_count": null,
   "id": "c6b5055d",
   "metadata": {},
   "outputs": [
    {
     "name": "stdout",
     "output_type": "stream",
     "text": [
      "24\n",
      "30\n",
      "18\n",
      "22\n",
      "28\n"
     ]
    }
   ],
   "source": [
    "# Example 4 --> simple example to print all element from a list using for loop\n",
    "\n",
    "age = [24, 30, 18, 22, 28]\n",
    "for i in age:\n",
    "    print(i)\n"
   ]
  },
  {
   "cell_type": "code",
   "execution_count": 6,
   "id": "614b7f1c",
   "metadata": {},
   "outputs": [
    {
     "name": "stdout",
     "output_type": "stream",
     "text": [
      "Random element from the list: [0.21407410165285568, 0.10056043475349852, 0.5376139856887248, 0.7033852640629787, 0.34774150812471705]\n"
     ]
    }
   ],
   "source": [
    "# Example 5 --> printing any random element from the list\n",
    "\n",
    "from random import random\n",
    "\n",
    "peopleAge = [random(), random(), random(), random(), random()]\n",
    "\n",
    "print(f\"Random element from the list: {peopleAge}\")"
   ]
  },
  {
   "cell_type": "code",
   "execution_count": 13,
   "id": "85be350a",
   "metadata": {},
   "outputs": [
    {
     "name": "stdout",
     "output_type": "stream",
     "text": [
      "5\n",
      "0.8570510146152227\n",
      "0.797186912423804\n",
      "0.762494803091198\n",
      "0.04710472379987718\n",
      "0.9207998340693286\n",
      "Element at index 0: 0.8570510146152227\n",
      "Element at index 1: 0.797186912423804\n",
      "Element at index 2: 0.762494803091198\n",
      "Element at index 3: 0.04710472379987718\n",
      "Element at index 4: 0.9207998340693286\n"
     ]
    }
   ],
   "source": [
    "# Example 6 --> Printing elements from a list using a for loop for random numbers\n",
    "\n",
    "from random import random\n",
    "random_numbers = [random() for _ in range(5)]\n",
    "\n",
    "print(len(random_numbers))  # Print the length of the list\n",
    "\n",
    "for i in random_numbers:\n",
    "    print(i)  # Print each element in the list\n",
    "\n",
    "\n",
    "for i in range(len(random_numbers)):\n",
    "    print(f\"Element at index {i}: {random_numbers[i]}\")  # Print each element with its index"
   ]
  },
  {
   "cell_type": "code",
   "execution_count": null,
   "id": "5036ef6b",
   "metadata": {},
   "outputs": [
    {
     "name": "stdout",
     "output_type": "stream",
     "text": [
      "List before appending: [2, 9, 5, 4, 6]\n",
      "List after appending: [2, 9, 5, 4, 6, 10]\n"
     ]
    }
   ],
   "source": [
    "# Example 7 --> append() method to add an element to a list\n",
    "# Note: The append() always method adds an element to the end of the list by default.\n",
    "\n",
    "my_list = [2, 9, 5, 4, 6]\n",
    "\n",
    "print(f\"List before appending: {my_list}\")  # Print the original list\n",
    "my_list.append(10)  # Append 10 to the end of the list\n",
    "print(f\"List after appending: {my_list}\")  # Print the updated list"
   ]
  },
  {
   "cell_type": "code",
   "execution_count": 17,
   "id": "e9e00f42",
   "metadata": {},
   "outputs": [
    {
     "name": "stdout",
     "output_type": "stream",
     "text": [
      "List before appending: ['apple', 'banana', 'cherry']\n",
      "List after appending: ['apple', 'banana', 'cherry', 'orange']\n"
     ]
    }
   ],
   "source": [
    "# Example 8 --> Using the append() method to add a string to a list\n",
    "\n",
    "my_list = [\"apple\", \"banana\", \"cherry\"]\n",
    "\n",
    "def append_string_to_list(lst, string):\n",
    "    my_list.append(string)\n",
    "    return lst\n",
    "\n",
    "print(f\"List before appending: {my_list}\")  # Print the updated list\n",
    "my_list = append_string_to_list(my_list, \"orange\")\n",
    "print(f\"List after appending: {my_list}\")  # Print the updated list"
   ]
  },
  {
   "cell_type": "code",
   "execution_count": 21,
   "id": "ec68fd60",
   "metadata": {},
   "outputs": [
    {
     "name": "stdout",
     "output_type": "stream",
     "text": [
      "List before appending: [1, 2, 3]\n",
      "List after appending: [1, 2, 3, [4, 5, 6]]\n",
      "Last element of the list: [4, 5, 6]\n"
     ]
    }
   ],
   "source": [
    "# Example 9 --> Using the append() method to add a another list to a list\n",
    "\n",
    "my_list = [1, 2, 3]\n",
    "\n",
    "print(f\"List before appending: {my_list}\")  # Print the original list\n",
    "\n",
    "my_list.append([4, 5, 6])  # Append another list to the end of the list\n",
    "print(f\"List after appending: {my_list}\")  # Print the updated list\n",
    "\n",
    "print(f\"Last element of the list:\",my_list[-1])  # Print the last element of the list, which is the appended list [4, 5, 6]"
   ]
  },
  {
   "cell_type": "code",
   "execution_count": 24,
   "id": "b5e0b293",
   "metadata": {},
   "outputs": [
    {
     "name": "stdout",
     "output_type": "stream",
     "text": [
      "List before inserting: [1, 2, 3]\n",
      "List after inserting: [1, 4, 2, 3]\n"
     ]
    }
   ],
   "source": [
    "# Example 10 --> insert() method to add an element at a specific index in a list\n",
    "# Note: The insert() method allows you to add an element at a specific index in the list.\n",
    "\n",
    "my_list = [1, 2, 3]\n",
    "\n",
    "print(f\"List before inserting: {my_list}\")  # Print the original list\n",
    "my_list.insert(1, 4)  # Insert 4 at index 1\n",
    "print(f\"List after inserting: {my_list}\")  # Print the updated list\n",
    "\n",
    "# Note: The insert() method does not replace the existing element at the specified index; it shifts the elements to the right.\n"
   ]
  },
  {
   "cell_type": "code",
   "execution_count": null,
   "id": "91a975a6",
   "metadata": {},
   "outputs": [],
   "source": [
    "# Example 11 --> insert() method to add a string at a specific index in a list"
   ]
  }
 ],
 "metadata": {
  "kernelspec": {
   "display_name": "Python 3",
   "language": "python",
   "name": "python3"
  },
  "language_info": {
   "codemirror_mode": {
    "name": "ipython",
    "version": 3
   },
   "file_extension": ".py",
   "mimetype": "text/x-python",
   "name": "python",
   "nbconvert_exporter": "python",
   "pygments_lexer": "ipython3",
   "version": "3.13.2"
  }
 },
 "nbformat": 4,
 "nbformat_minor": 5
}
