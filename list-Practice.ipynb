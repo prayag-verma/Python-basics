{
 "cells": [
  {
   "cell_type": "code",
   "execution_count": null,
   "id": "9f86e19c",
   "metadata": {},
   "outputs": [],
   "source": [
    "# A simple 'list' practice problems here:\n",
    "\n",
    "peopleAge = [24, 30, 18, 22, 28]\n",
    "\n",
    "print(peopleAge)\n"
   ]
  }
 ],
 "metadata": {
  "language_info": {
   "name": "python"
  }
 },
 "nbformat": 4,
 "nbformat_minor": 5
}
