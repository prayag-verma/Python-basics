{
 "cells": [
  {
   "cell_type": "code",
   "execution_count": 23,
   "id": "fd66fad2",
   "metadata": {},
   "outputs": [
    {
     "data": {
      "text/plain": [
       "\"\\nNote:\\n    - A tuple is an ordered, immutable collection, defined with ().\\n    - It can hold mixed data types, like numbers, strings, or other tuples.\\n    - Often used to group related values, e.g., coordinates (x, y) or RGB (r, g, b).\\n    - Supports indexing and slicing, like lists.\\n    - Can be unpacked into variables in one line.\\n    - Can be used as dictionary keys (unlike lists) due to immutability.\\n    - Tuples can be concatenated with +, creating a new tuple.\\n    - Being immutable, their contents can't be modified, added, or removed.\\n\""
      ]
     },
     "execution_count": 23,
     "metadata": {},
     "output_type": "execute_result"
    }
   ],
   "source": [
    "                                        # Tuple Exercises\n",
    "'''\n",
    "Note:\n",
    "    - A tuple is an ordered, immutable collection, defined with ().\n",
    "    - It can hold mixed data types, like numbers, strings, or other tuples.\n",
    "    - Often used to group related values, e.g., coordinates (x, y) or RGB (r, g, b).\n",
    "    - Supports indexing and slicing, like lists.\n",
    "    - Can be unpacked into variables in one line.\n",
    "    - Can be used as dictionary keys (unlike lists) due to immutability.\n",
    "    - Tuples can be concatenated with +, creating a new tuple.\n",
    "    - Being immutable, their contents can't be modified, added, or removed.\n",
    "'''\n"
   ]
  },
  {
   "cell_type": "code",
   "execution_count": 24,
   "id": "e7def30d",
   "metadata": {},
   "outputs": [
    {
     "name": "stdout",
     "output_type": "stream",
     "text": [
      "Tuple: (1, 'apple', 3.14, True)\n"
     ]
    }
   ],
   "source": [
    "# Example 1 --> Creating a tuple with mixed data types\n",
    "my_tuple = (1, \"apple\", 3.14, True)\n",
    "print(f\"Tuple: {my_tuple}\")  # Print the tuple"
   ]
  },
  {
   "cell_type": "code",
   "execution_count": 25,
   "id": "3197b52e",
   "metadata": {},
   "outputs": [
    {
     "name": "stdout",
     "output_type": "stream",
     "text": [
      "Length of tuple: 5\n"
     ]
    }
   ],
   "source": [
    "# Example 2 --> Printing length of a tuple\n",
    "my_tuple = (1, 2, 3, 4, 5)\n",
    "print(f\"Length of tuple: {len(my_tuple)}\")  # Print the length of the tuple\n",
    "\n"
   ]
  },
  {
   "cell_type": "code",
   "execution_count": 26,
   "id": "174efac4",
   "metadata": {},
   "outputs": [
    {
     "name": "stdout",
     "output_type": "stream",
     "text": [
      "First element: 1\n",
      "Last element: 5\n"
     ]
    }
   ],
   "source": [
    "# Example 3 --> Accessing elements in a tuple using indexing\n",
    "\n",
    "my_tuple = (1, 2, 3, 4, 5)\n",
    "\n",
    "print(f\"First element: {my_tuple[0]}\")  # Access the first element\n",
    "print(f\"Last element: {my_tuple[-1]}\")  # Access the last element\n"
   ]
  },
  {
   "cell_type": "code",
   "execution_count": 27,
   "id": "ff09e103",
   "metadata": {},
   "outputs": [
    {
     "name": "stdout",
     "output_type": "stream",
     "text": [
      "Sub-tuple (first three elements): (1, 2, 3)\n",
      "Sub-tuple (last two elements): (4, 5)\n"
     ]
    }
   ],
   "source": [
    "# Example 4 --> Slicing a tuple to get a sub-tuple\n",
    "my_tuple = (1, 2, 3, 4, 5)\n",
    "\n",
    "print(f\"Sub-tuple (first three elements): {my_tuple[:3]}\")  # Get the first three elements\n",
    "print(f\"Sub-tuple (last two elements): {my_tuple[-2:]}\") # Get the last two elements\n"
   ]
  },
  {
   "cell_type": "code",
   "execution_count": 28,
   "id": "6c2f3a28",
   "metadata": {},
   "outputs": [
    {
     "name": "stdout",
     "output_type": "stream",
     "text": [
      "Concatenated tuple: (1, 2, 3, 4, 5, 6)\n"
     ]
    }
   ],
   "source": [
    "# Example 5 --> Concatenating two tuples\n",
    "tuple1 = (1, 2, 3)\n",
    "tuple2 = (4, 5, 6)\n",
    "\n",
    "concatenated_tuple = tuple1 + tuple2  # Concatenate the two tuples\n",
    "print(f\"Concatenated tuple: {concatenated_tuple}\")  # Print the concatenated tuple\n"
   ]
  },
  {
   "cell_type": "code",
   "execution_count": 29,
   "id": "26f32774",
   "metadata": {},
   "outputs": [
    {
     "name": "stdout",
     "output_type": "stream",
     "text": [
      "Unpacked values: a=1, b=apple, c=3.14\n"
     ]
    }
   ],
   "source": [
    "# Example 6 --> Unpacking a tuple into variables\n",
    "\n",
    "my_tuple = (1, \"apple\", 3.14)\n",
    "\n",
    "a, b, c = my_tuple  # Unpack the tuple into variables\n",
    "print(f\"Unpacked values: a={a}, b={b}, c={c}\")\n"
   ]
  },
  {
   "cell_type": "code",
   "execution_count": 30,
   "id": "7351e8e8",
   "metadata": {},
   "outputs": [
    {
     "name": "stdout",
     "output_type": "stream",
     "text": [
      "Count of 2 in tuple is: 3\n"
     ]
    }
   ],
   "source": [
    "# Example 7 --> Using the count() method to count occurrences of an element in a tuple\n",
    "\n",
    "my_tuple = (1, 2, 3, 2, 4, 2)\n",
    "\n",
    "count_of_twos = my_tuple.count(2)  # Count occurrences of the number 2\n",
    "print(f\"Count of 2 in tuple is: {count_of_twos}\")  # Print the count of 2 in the tuple\n"
   ]
  },
  {
   "cell_type": "code",
   "execution_count": 31,
   "id": "947cd837",
   "metadata": {},
   "outputs": [
    {
     "name": "stdout",
     "output_type": "stream",
     "text": [
      "Index of 3 in tuple is: 2\n"
     ]
    }
   ],
   "source": [
    "# Example 8 --> Using the index() method to find the index of an element in a tuple\n",
    "\n",
    "my_tuple = (1, 2, 3, 4, 5)\n",
    "\n",
    "index_of_three = my_tuple.index(3)  # Find the index of the number\n",
    "print(f\"Index of 3 in tuple is: {index_of_three}\")  # Print the index of 3 in the tuple\n"
   ]
  },
  {
   "cell_type": "code",
   "execution_count": 32,
   "id": "f187381b",
   "metadata": {},
   "outputs": [
    {
     "name": "stdout",
     "output_type": "stream",
     "text": [
      "Does 3 exist in the tuple? True\n"
     ]
    }
   ],
   "source": [
    "# Example 9 --> Using the in operator to check if an element exists in a tuple\n",
    "\n",
    "my_tuple = (1, 2, 3, 4, 5)  \n",
    "element_to_check = 3\n",
    "\n",
    "exists = element_to_check in my_tuple  # Check if the element exists in the tuple\n",
    "print(f\"Does {element_to_check} exist in the tuple? {exists}\")  # Print the result of the check\n"
   ]
  },
  {
   "cell_type": "code",
   "execution_count": 33,
   "id": "dd653b30",
   "metadata": {},
   "outputs": [
    {
     "name": "stdout",
     "output_type": "stream",
     "text": [
      "Sorted tuple: (1, 2, 5, 5, 6, 9)\n"
     ]
    }
   ],
   "source": [
    "# Example 10 --> Using the sorted() function to sort a tuple\n",
    "\n",
    "my_tuple = (5, 2, 9, 1, 5, 6)\n",
    "\n",
    "sorted_tuple = tuple(sorted(my_tuple))  # Sort the tuple and convert back to tuple\n",
    "print(f\"Sorted tuple: {sorted_tuple}\")  # Print the sorted tuple\n"
   ]
  },
  {
   "cell_type": "code",
   "execution_count": 34,
   "id": "2a02deb8",
   "metadata": {},
   "outputs": [
    {
     "name": "stdout",
     "output_type": "stream",
     "text": [
      "Maximum value in tuple: 9\n",
      "Minimum value in tuple: 1\n"
     ]
    }
   ],
   "source": [
    "# Example 11 --> Using the max() and min() functions to find the maximum and minimum values in a tuple\n",
    "\n",
    "my_tuple = (5, 2, 9, 1, 5, 6)\n",
    "\n",
    "max_value = max(my_tuple)  # Find the maximum value in the tuple\n",
    "min_value = min(my_tuple)  # Find the minimum value in the tuple\n",
    "\n",
    "print(f\"Maximum value in tuple: {max_value}\")  # Print the maximum value\n",
    "print(f\"Minimum value in tuple: {min_value}\")  # Print the minimum value\n"
   ]
  },
  {
   "cell_type": "code",
   "execution_count": 35,
   "id": "a0dc4dea",
   "metadata": {},
   "outputs": [
    {
     "name": "stdout",
     "output_type": "stream",
     "text": [
      "Original list: [1, 2, 3, 4, 5, 6]\n",
      "List after removing 3: [1, 2, 4, 5, 6]\n"
     ]
    }
   ],
   "source": [
    "# Example 12 --> Using the remove() method to remove an element from a list\n",
    "\n",
    "my_list = [1, 2, 3, 4, 5, 6]\n",
    "element_to_remove = 3\n",
    "\n",
    "print(f\"Original list: {my_list}\")  # Print the original list\n",
    "\n",
    "if element_to_remove in my_list:\n",
    "    my_list.remove(element_to_remove)  # Remove the element from the list\n",
    "    print(f\"List after removing {element_to_remove}: {my_list}\")  # Print the modified list"
   ]
  },
  {
   "cell_type": "code",
   "execution_count": 36,
   "id": "f295950b",
   "metadata": {},
   "outputs": [
    {
     "name": "stdout",
     "output_type": "stream",
     "text": [
      "List after appending 6: [1, 2, 3, 4, 5, 6]\n"
     ]
    }
   ],
   "source": [
    "# Example 13 --> Using the append() method to add an element to a list\n",
    "\n",
    "my_list = [1, 2, 3, 4, 5]\n",
    "element_to_add = 6\n",
    "\n",
    "my_list.append(element_to_add)  # Add the element to the end of the list\n",
    "print(f\"List after appending {element_to_add}: {my_list}\")  # Print the modified list\n"
   ]
  },
  {
   "cell_type": "code",
   "execution_count": 37,
   "id": "47448daa",
   "metadata": {},
   "outputs": [
    {
     "name": "stdout",
     "output_type": "stream",
     "text": [
      "Popped element: 5\n",
      "List after popping: [1, 2, 3, 4]\n"
     ]
    }
   ],
   "source": [
    "# Example 14 --> Using the pop() method to remove and return an element from a list\n",
    "\n",
    "my_list = [1, 2, 3, 4, 5]\n",
    "\n",
    "popped_element = my_list.pop()  # Remove and return the last element\n",
    "\n",
    "print(f\"Popped element: {popped_element}\")  # Print the popped element\n",
    "print(f\"List after popping: {my_list}\")  # Print the modified list\n"
   ]
  },
  {
   "cell_type": "code",
   "execution_count": 38,
   "id": "c1774868",
   "metadata": {},
   "outputs": [
    {
     "name": "stdout",
     "output_type": "stream",
     "text": [
      "List after inserting 10 at index 2: [1, 2, 10, 3, 4, 5]\n"
     ]
    }
   ],
   "source": [
    "# Example 15 --> Using the insert() method to add an element at a specific index in a list\n",
    "\n",
    "my_list = [1, 2, 3, 4, 5]\n",
    "\n",
    "element_to_insert = 10\n",
    "index_to_insert = 2\n",
    "\n",
    "my_list.insert(index_to_insert, element_to_insert)  # Insert the element at the specified index\n",
    "print(f\"List after inserting {element_to_insert} at index {index_to_insert}: {my_list}\")  # Print the modified list\n"
   ]
  },
  {
   "cell_type": "code",
   "execution_count": 39,
   "id": "559166bc",
   "metadata": {},
   "outputs": [
    {
     "name": "stdout",
     "output_type": "stream",
     "text": [
      "List after extending with [6, 7, 8]: [1, 2, 3, 4, 5, 6, 7, 8]\n"
     ]
    }
   ],
   "source": [
    "# Example 16 --> Using the extend() method to add multiple elements to a list\n",
    "\n",
    "my_list = [1, 2, 3, 4, 5]\n",
    "\n",
    "elements_to_add = [6, 7, 8]\n",
    "\n",
    "my_list.extend(elements_to_add)  # Extend the list with multiple elements\n",
    "print(f\"List after extending with {elements_to_add}: {my_list}\")  # Print the modified list"
   ]
  },
  {
   "cell_type": "code",
   "execution_count": null,
   "id": "e4a26742",
   "metadata": {},
   "outputs": [
    {
     "name": "stdout",
     "output_type": "stream",
     "text": [
      "List after clearing: []\n"
     ]
    }
   ],
   "source": [
    "# Example 17 --> Using the clear() method to remove all elements from a list\n",
    "my_list = [1, 2, 3, 4, 5]\n",
    "\n",
    "my_list.clear()  # Clear the list, removing all elements\n",
    "print(f\"List after clearing: {my_list}\")  # Print the cleared list\n",
    "# End of tuple exercises"
   ]
  }
 ],
 "metadata": {
  "kernelspec": {
   "display_name": "Python 3",
   "language": "python",
   "name": "python3"
  },
  "language_info": {
   "codemirror_mode": {
    "name": "ipython",
    "version": 3
   },
   "file_extension": ".py",
   "mimetype": "text/x-python",
   "name": "python",
   "nbconvert_exporter": "python",
   "pygments_lexer": "ipython3",
   "version": "3.13.2"
  }
 },
 "nbformat": 4,
 "nbformat_minor": 5
}
